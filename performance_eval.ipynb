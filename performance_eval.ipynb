{
 "cells": [
  {
   "cell_type": "code",
   "execution_count": 1,
   "id": "74df5db3",
   "metadata": {},
   "outputs": [],
   "source": [
    "import numpy as np\n",
    "import pandas as pd\n",
    "import json\n",
    "import matplotlib.pyplot as plt\n",
    "import matplotlib.patches as mpatches\n",
    "import seaborn as sns"
   ]
  },
  {
   "cell_type": "code",
   "execution_count": 2,
   "id": "cc31bd44",
   "metadata": {},
   "outputs": [],
   "source": [
    "if 'google.colab' in str(get_ipython()): # running in colab\n",
    "    from google.colab import drive\n",
    "    drive.mount('/content/drive')\n",
    "    DATA_PATH = '/content/drive/MyDrive/revisiting_crossval_RNAfolding/'\n",
    "else:\n",
    "    DATA_PATH = '/home/lbugnon/shared_insync/revisiting_crossval_RNAfolding/'"
   ]
  },
  {
   "cell_type": "markdown",
   "id": "22ca2515",
   "metadata": {},
   "source": [
    "## Ordendanando archivos \n",
    "*NO CORRER ESTA SECCION*\n",
    "- Esta parte la dejo de referencia, ya deje los csvs limpios\n",
    "- filtro todo para que queden secuencias de longitud < 512, quedan los bkp cualquier cosa, la idea es que el dataset, particiones y predicciones tengan los mismos ids"
   ]
  },
  {
   "cell_type": "code",
   "execution_count": null,
   "id": "f78b9043",
   "metadata": {},
   "outputs": [],
   "source": [
    "!pip install git+https://github.com/lbugnon/sincfold_utils "
   ]
  },
  {
   "cell_type": "markdown",
   "id": "ffb1e3ad",
   "metadata": {},
   "source": [
    "Dataset"
   ]
  },
  {
   "cell_type": "code",
   "execution_count": 48,
   "id": "9a50f2f5",
   "metadata": {},
   "outputs": [
    {
     "name": "stdout",
     "output_type": "stream",
     "text": [
      "(3975, 10) 2968 28\n",
      "(3864, 4) 510 28\n"
     ]
    },
    {
     "data": {
      "text/html": [
       "<div>\n",
       "<style scoped>\n",
       "    .dataframe tbody tr th:only-of-type {\n",
       "        vertical-align: middle;\n",
       "    }\n",
       "\n",
       "    .dataframe tbody tr th {\n",
       "        vertical-align: top;\n",
       "    }\n",
       "\n",
       "    .dataframe thead th {\n",
       "        text-align: right;\n",
       "    }\n",
       "</style>\n",
       "<table border=\"1\" class=\"dataframe\">\n",
       "  <thead>\n",
       "    <tr style=\"text-align: right;\">\n",
       "      <th></th>\n",
       "      <th>sequence</th>\n",
       "      <th>len</th>\n",
       "      <th>structure</th>\n",
       "      <th>base_pairs</th>\n",
       "    </tr>\n",
       "    <tr>\n",
       "      <th>id</th>\n",
       "      <th></th>\n",
       "      <th></th>\n",
       "      <th></th>\n",
       "      <th></th>\n",
       "    </tr>\n",
       "  </thead>\n",
       "  <tbody>\n",
       "    <tr>\n",
       "      <th>5s_Acholeplasma-laidlawii-1</th>\n",
       "      <td>UCUGGUGACGAUAGGUAAGAUGGUUCACCUGUUCCCAUCCCGAACA...</td>\n",
       "      <td>112</td>\n",
       "      <td>((((((((......((((((((....((((((.............)...</td>\n",
       "      <td>[[1, 111], [2, 110], [3, 109], [4, 108], [5, 1...</td>\n",
       "    </tr>\n",
       "    <tr>\n",
       "      <th>5s_Acidovorax-temperans-1</th>\n",
       "      <td>UGCCUGAUGACCAUAGCAAGUUGGUACCACUCCUUCCCAUCCCGAA...</td>\n",
       "      <td>115</td>\n",
       "      <td>.(((((((((.....((((((((.....((((((...............</td>\n",
       "      <td>[[2, 115], [3, 114], [4, 113], [5, 112], [6, 1...</td>\n",
       "    </tr>\n",
       "    <tr>\n",
       "      <th>tmRNA_Stre.gord._TRW-29390_1-349</th>\n",
       "      <td>GGGGUCGUUACGGAUUCGACAGGCAUUAUGAGGCAUAUUUUGCGAC...</td>\n",
       "      <td>349</td>\n",
       "      <td>(((((((............((((((((....(((((((((..((((...</td>\n",
       "      <td>[[1, 345], [2, 344], [3, 343], [4, 342], [5, 3...</td>\n",
       "    </tr>\n",
       "    <tr>\n",
       "      <th>tRNA_tdbR00000055-Schizosaccharomyces_pombe-4896-Glu-3UC</th>\n",
       "      <td>UCCGUUGUGGUCCAACGGCUAGGAUUCGUCGCUUUCACCGACGGGA...</td>\n",
       "      <td>75</td>\n",
       "      <td>(((((((..((((........))))((((((.......)))))).....</td>\n",
       "      <td>[[1, 71], [2, 70], [3, 69], [4, 68], [5, 67], ...</td>\n",
       "    </tr>\n",
       "    <tr>\n",
       "      <th>srp_List.mono._U15684</th>\n",
       "      <td>UGGGUUGAUGAGCGUGAAGCCUUCGCUCGGUUGGAUUUUUCUUCAU...</td>\n",
       "      <td>279</td>\n",
       "      <td>.(.((((...(.(.((.(.((..(.....)..)).)...(...(.....</td>\n",
       "      <td>[[2, 276], [4, 274], [5, 273], [6, 272], [7, 2...</td>\n",
       "    </tr>\n",
       "  </tbody>\n",
       "</table>\n",
       "</div>"
      ],
      "text/plain": [
       "                                                                                             sequence  \\\n",
       "id                                                                                                      \n",
       "5s_Acholeplasma-laidlawii-1                         UCUGGUGACGAUAGGUAAGAUGGUUCACCUGUUCCCAUCCCGAACA...   \n",
       "5s_Acidovorax-temperans-1                           UGCCUGAUGACCAUAGCAAGUUGGUACCACUCCUUCCCAUCCCGAA...   \n",
       "tmRNA_Stre.gord._TRW-29390_1-349                    GGGGUCGUUACGGAUUCGACAGGCAUUAUGAGGCAUAUUUUGCGAC...   \n",
       "tRNA_tdbR00000055-Schizosaccharomyces_pombe-489...  UCCGUUGUGGUCCAACGGCUAGGAUUCGUCGCUUUCACCGACGGGA...   \n",
       "srp_List.mono._U15684                               UGGGUUGAUGAGCGUGAAGCCUUCGCUCGGUUGGAUUUUUCUUCAU...   \n",
       "\n",
       "                                                    len  \\\n",
       "id                                                        \n",
       "5s_Acholeplasma-laidlawii-1                         112   \n",
       "5s_Acidovorax-temperans-1                           115   \n",
       "tmRNA_Stre.gord._TRW-29390_1-349                    349   \n",
       "tRNA_tdbR00000055-Schizosaccharomyces_pombe-489...   75   \n",
       "srp_List.mono._U15684                               279   \n",
       "\n",
       "                                                                                            structure  \\\n",
       "id                                                                                                      \n",
       "5s_Acholeplasma-laidlawii-1                         ((((((((......((((((((....((((((.............)...   \n",
       "5s_Acidovorax-temperans-1                           .(((((((((.....((((((((.....((((((...............   \n",
       "tmRNA_Stre.gord._TRW-29390_1-349                    (((((((............((((((((....(((((((((..((((...   \n",
       "tRNA_tdbR00000055-Schizosaccharomyces_pombe-489...  (((((((..((((........))))((((((.......)))))).....   \n",
       "srp_List.mono._U15684                               .(.((((...(.(.((.(.((..(.....)..)).)...(...(.....   \n",
       "\n",
       "                                                                                           base_pairs  \n",
       "id                                                                                                     \n",
       "5s_Acholeplasma-laidlawii-1                         [[1, 111], [2, 110], [3, 109], [4, 108], [5, 1...  \n",
       "5s_Acidovorax-temperans-1                           [[2, 115], [3, 114], [4, 113], [5, 112], [6, 1...  \n",
       "tmRNA_Stre.gord._TRW-29390_1-349                    [[1, 345], [2, 344], [3, 343], [4, 342], [5, 3...  \n",
       "tRNA_tdbR00000055-Schizosaccharomyces_pombe-489...  [[1, 71], [2, 70], [3, 69], [4, 68], [5, 67], ...  \n",
       "srp_List.mono._U15684                               [[2, 276], [4, 274], [5, 273], [6, 272], [7, 2...  "
      ]
     },
     "execution_count": 48,
     "metadata": {},
     "output_type": "execute_result"
    }
   ],
   "source": [
    "dataset = pd.read_csv(f\"{DATA_PATH}data/archiveII_220808.csv\", index_col=\"id\")\n",
    "print(dataset.shape, dataset.len.max(), dataset.len.min())\n",
    "dataset = dataset[dataset.len < 512]\n",
    "dataset = dataset[[\"sequence\", \"len\", \"structure\", \"base_pairs\"]]\n",
    "print(dataset.shape, dataset.len.max(), dataset.len.min())\n",
    "dataset.to_csv(f\"{DATA_PATH}data/archiveII_250808.csv\")\n",
    "dataset.head()"
   ]
  },
  {
   "cell_type": "markdown",
   "id": "cbd4d7bc",
   "metadata": {},
   "source": [
    "Classical methods"
   ]
  },
  {
   "cell_type": "code",
   "execution_count": 42,
   "id": "39c9c2f4",
   "metadata": {},
   "outputs": [
    {
     "name": "stdout",
     "output_type": "stream",
     "text": [
      "Saving IPKnot with fixed base pairs (3864, 3)\n",
      "Saving LinearFoldV with fixed base pairs (3864, 3)\n",
      "Saving LinearPartitionC with fixed base pairs (3864, 3)\n",
      "Saving LinearPartitionV with fixed base pairs (3864, 3)\n",
      "Saving ProbKnot with fixed base pairs (3864, 4)\n",
      "Saving RNAfold with fixed base pairs (3864, 3)\n",
      "Saving RNAstructure with fixed base pairs (3864, 3)\n"
     ]
    }
   ],
   "source": [
    "from sincfold_utils.io import dot2bp\n",
    "for method in [\"IPKnot\", \"LinearFoldV\", \"LinearPartitionC\", \"LinearPartitionV\", \"RNAfold\", \"RNAstructure\"]:\n",
    "    pred = pd.read_csv(DATA_PATH+f\"results/{method}.csv\", index_col=\"id\")\n",
    "    pred = pred.loc[dataset.index]\n",
    "    if \"base_pairs\" in pred.columns:\n",
    "        continue\n",
    "    if \" folding\" in pred.columns:\n",
    "        pred[\"folding\"] = pred[\" folding\"]\n",
    "        \n",
    "    if \"dataset_name\" in pred.columns:\n",
    "        pred = pred[pred[\"dataset_name\"]==\"archiveII\"]    \n",
    "\n",
    "    pred[\"base_pairs\"] = pred[\"folding\"].apply(dot2bp)\n",
    "    print(f\"Saving {method} with fixed base pairs\", pred.shape)\n",
    "    !mv {DATA_PATH}results/{method}.csv {DATA_PATH}results/bkp_clasical_methods/{method}.csv\n",
    "    pred[[\"base_pairs\"]].to_csv(f\"{DATA_PATH}results/{method}.csv\")\n"
   ]
  },
  {
   "cell_type": "code",
   "execution_count": 76,
   "id": "b71c572e",
   "metadata": {},
   "outputs": [
    {
     "name": "stdout",
     "output_type": "stream",
     "text": [
      "Saving ProbKnot with fixed base pairs (3864, 4)\n"
     ]
    }
   ],
   "source": [
    "method = \"ProbKnot\"\n",
    "pred = pd.read_csv(DATA_PATH+f\"results/{method}.csv\", index_col=\"id\")\n",
    "pred = pred.loc[dataset.index]\n",
    "pred[\"base_pairs\"] = pred.folding    \n",
    "if \"dataset_name\" in pred.columns:\n",
    "    pred = pred[pred[\"dataset_name\"]==\"archiveII\"]    \n",
    "\n",
    "!mv {DATA_PATH}results/{method}.csv {DATA_PATH}results/bkp_clasical_methods/{method}.csv\n",
    "print(f\"Saving {method} with fixed base pairs\", pred.shape)\n",
    "pred[[\"base_pairs\"]].to_csv(f\"{DATA_PATH}results/{method}.csv\")\n"
   ]
  },
  {
   "cell_type": "markdown",
   "id": "13adc0b9",
   "metadata": {},
   "source": [
    "Some predictions are missing in some methods, these are filled with an empty prediction to be accountable. Also removing unused colunmns\n"
   ]
  },
  {
   "cell_type": "code",
   "execution_count": 129,
   "id": "b4cdee2a",
   "metadata": {},
   "outputs": [
    {
     "name": "stdout",
     "output_type": "stream",
     "text": [
      "0 (773, 3)\n",
      "(773, 3)\n",
      "1 (773, 3)\n",
      "(772, 3)\n",
      "2 (773, 3)\n",
      "(773, 3)\n",
      "3 (773, 3)\n",
      "(773, 3)\n",
      "4 (773, 3)\n",
      "(773, 3)\n"
     ]
    }
   ],
   "source": [
    "splits = pd.read_csv(f\"{DATA_PATH}data/1_random_kfolds/ArchiveII_splits_random.csv\", index_col=\"id\")\n",
    "\n",
    "for method in [\"REDfold\"]:\n",
    "    for fold in sorted(splits.fold_number.unique()):\n",
    "        split_dataset = splits[(splits.fold_number == fold) & (splits.partition == \"test\")].index\n",
    "        pred = pd.read_csv(DATA_PATH+f\"results/1_random_kfolds/{method}/{fold}/pred.csv\", index_col=\"id\")\n",
    "        print(fold, pred.shape)\n",
    "        pred = pred.loc[split_dataset]\n",
    "        print(pred.shape)\n",
    "        \n",
    "        !mkdir -p {DATA_PATH}results/1_random_kfolds/{method}/bkp/{fold}/\n",
    "        !mv {DATA_PATH}results/1_random_kfolds/{method}/{fold}/pred.csv {DATA_PATH}results/1_random_kfolds/{method}/bkp/{fold}/pred.csv\n",
    "        pred[[\"base_pairs\"]].to_csv(f\"{DATA_PATH}results/1_random_kfolds/{method}/{fold}/pred.csv\")\n",
    "        "
   ]
  },
  {
   "cell_type": "markdown",
   "id": "3ad66b7e",
   "metadata": {},
   "source": [
    "## Performance"
   ]
  },
  {
   "cell_type": "code",
   "execution_count": 77,
   "id": "c03fa8cf",
   "metadata": {},
   "outputs": [
    {
     "data": {
      "text/html": [
       "<div>\n",
       "<style scoped>\n",
       "    .dataframe tbody tr th:only-of-type {\n",
       "        vertical-align: middle;\n",
       "    }\n",
       "\n",
       "    .dataframe tbody tr th {\n",
       "        vertical-align: top;\n",
       "    }\n",
       "\n",
       "    .dataframe thead th {\n",
       "        text-align: right;\n",
       "    }\n",
       "</style>\n",
       "<table border=\"1\" class=\"dataframe\">\n",
       "  <thead>\n",
       "    <tr style=\"text-align: right;\">\n",
       "      <th></th>\n",
       "      <th>sequence</th>\n",
       "      <th>len</th>\n",
       "      <th>structure</th>\n",
       "      <th>base_pairs</th>\n",
       "    </tr>\n",
       "    <tr>\n",
       "      <th>id</th>\n",
       "      <th></th>\n",
       "      <th></th>\n",
       "      <th></th>\n",
       "      <th></th>\n",
       "    </tr>\n",
       "  </thead>\n",
       "  <tbody>\n",
       "    <tr>\n",
       "      <th>5s_Acholeplasma-laidlawii-1</th>\n",
       "      <td>UCUGGUGACGAUAGGUAAGAUGGUUCACCUGUUCCCAUCCCGAACA...</td>\n",
       "      <td>112</td>\n",
       "      <td>((((((((......((((((((....((((((.............)...</td>\n",
       "      <td>[[1, 111], [2, 110], [3, 109], [4, 108], [5, 1...</td>\n",
       "    </tr>\n",
       "    <tr>\n",
       "      <th>5s_Acidovorax-temperans-1</th>\n",
       "      <td>UGCCUGAUGACCAUAGCAAGUUGGUACCACUCCUUCCCAUCCCGAA...</td>\n",
       "      <td>115</td>\n",
       "      <td>.(((((((((.....((((((((.....((((((...............</td>\n",
       "      <td>[[2, 115], [3, 114], [4, 113], [5, 112], [6, 1...</td>\n",
       "    </tr>\n",
       "    <tr>\n",
       "      <th>tmRNA_Stre.gord._TRW-29390_1-349</th>\n",
       "      <td>GGGGUCGUUACGGAUUCGACAGGCAUUAUGAGGCAUAUUUUGCGAC...</td>\n",
       "      <td>349</td>\n",
       "      <td>(((((((............((((((((....(((((((((..((((...</td>\n",
       "      <td>[[1, 345], [2, 344], [3, 343], [4, 342], [5, 3...</td>\n",
       "    </tr>\n",
       "    <tr>\n",
       "      <th>tRNA_tdbR00000055-Schizosaccharomyces_pombe-4896-Glu-3UC</th>\n",
       "      <td>UCCGUUGUGGUCCAACGGCUAGGAUUCGUCGCUUUCACCGACGGGA...</td>\n",
       "      <td>75</td>\n",
       "      <td>(((((((..((((........))))((((((.......)))))).....</td>\n",
       "      <td>[[1, 71], [2, 70], [3, 69], [4, 68], [5, 67], ...</td>\n",
       "    </tr>\n",
       "    <tr>\n",
       "      <th>srp_List.mono._U15684</th>\n",
       "      <td>UGGGUUGAUGAGCGUGAAGCCUUCGCUCGGUUGGAUUUUUCUUCAU...</td>\n",
       "      <td>279</td>\n",
       "      <td>.(.((((...(.(.((.(.((..(.....)..)).)...(...(.....</td>\n",
       "      <td>[[2, 276], [4, 274], [5, 273], [6, 272], [7, 2...</td>\n",
       "    </tr>\n",
       "  </tbody>\n",
       "</table>\n",
       "</div>"
      ],
      "text/plain": [
       "                                                                                             sequence  \\\n",
       "id                                                                                                      \n",
       "5s_Acholeplasma-laidlawii-1                         UCUGGUGACGAUAGGUAAGAUGGUUCACCUGUUCCCAUCCCGAACA...   \n",
       "5s_Acidovorax-temperans-1                           UGCCUGAUGACCAUAGCAAGUUGGUACCACUCCUUCCCAUCCCGAA...   \n",
       "tmRNA_Stre.gord._TRW-29390_1-349                    GGGGUCGUUACGGAUUCGACAGGCAUUAUGAGGCAUAUUUUGCGAC...   \n",
       "tRNA_tdbR00000055-Schizosaccharomyces_pombe-489...  UCCGUUGUGGUCCAACGGCUAGGAUUCGUCGCUUUCACCGACGGGA...   \n",
       "srp_List.mono._U15684                               UGGGUUGAUGAGCGUGAAGCCUUCGCUCGGUUGGAUUUUUCUUCAU...   \n",
       "\n",
       "                                                    len  \\\n",
       "id                                                        \n",
       "5s_Acholeplasma-laidlawii-1                         112   \n",
       "5s_Acidovorax-temperans-1                           115   \n",
       "tmRNA_Stre.gord._TRW-29390_1-349                    349   \n",
       "tRNA_tdbR00000055-Schizosaccharomyces_pombe-489...   75   \n",
       "srp_List.mono._U15684                               279   \n",
       "\n",
       "                                                                                            structure  \\\n",
       "id                                                                                                      \n",
       "5s_Acholeplasma-laidlawii-1                         ((((((((......((((((((....((((((.............)...   \n",
       "5s_Acidovorax-temperans-1                           .(((((((((.....((((((((.....((((((...............   \n",
       "tmRNA_Stre.gord._TRW-29390_1-349                    (((((((............((((((((....(((((((((..((((...   \n",
       "tRNA_tdbR00000055-Schizosaccharomyces_pombe-489...  (((((((..((((........))))((((((.......)))))).....   \n",
       "srp_List.mono._U15684                               .(.((((...(.(.((.(.((..(.....)..)).)...(...(.....   \n",
       "\n",
       "                                                                                           base_pairs  \n",
       "id                                                                                                     \n",
       "5s_Acholeplasma-laidlawii-1                         [[1, 111], [2, 110], [3, 109], [4, 108], [5, 1...  \n",
       "5s_Acidovorax-temperans-1                           [[2, 115], [3, 114], [4, 113], [5, 112], [6, 1...  \n",
       "tmRNA_Stre.gord._TRW-29390_1-349                    [[1, 345], [2, 344], [3, 343], [4, 342], [5, 3...  \n",
       "tRNA_tdbR00000055-Schizosaccharomyces_pombe-489...  [[1, 71], [2, 70], [3, 69], [4, 68], [5, 67], ...  \n",
       "srp_List.mono._U15684                               [[2, 276], [4, 274], [5, 273], [6, 272], [7, 2...  "
      ]
     },
     "execution_count": 77,
     "metadata": {},
     "output_type": "execute_result"
    }
   ],
   "source": [
    "dataset = pd.read_csv(f\"{DATA_PATH}data/archiveII_250808.csv\", index_col=\"id\")\n",
    "dataset.head()"
   ]
  },
  {
   "cell_type": "markdown",
   "id": "b0a21468",
   "metadata": {},
   "source": [
    "Classical methods are not trained, therefore the score per sequence is the same in all cases"
   ]
  },
  {
   "cell_type": "code",
   "execution_count": null,
   "id": "90218cfd",
   "metadata": {},
   "outputs": [
    {
     "name": "stdout",
     "output_type": "stream",
     "text": [
      "IPKnot LinearFoldV LinearPartitionC LinearPartitionV ProbKnot RNAfold RNAstructure "
     ]
    },
    {
     "data": {
      "text/html": [
       "<div>\n",
       "<style scoped>\n",
       "    .dataframe tbody tr th:only-of-type {\n",
       "        vertical-align: middle;\n",
       "    }\n",
       "\n",
       "    .dataframe tbody tr th {\n",
       "        vertical-align: top;\n",
       "    }\n",
       "\n",
       "    .dataframe thead th {\n",
       "        text-align: right;\n",
       "    }\n",
       "</style>\n",
       "<table border=\"1\" class=\"dataframe\">\n",
       "  <thead>\n",
       "    <tr style=\"text-align: right;\">\n",
       "      <th></th>\n",
       "      <th>method</th>\n",
       "      <th>f1</th>\n",
       "      <th>rec</th>\n",
       "      <th>pre</th>\n",
       "    </tr>\n",
       "    <tr>\n",
       "      <th>id</th>\n",
       "      <th></th>\n",
       "      <th></th>\n",
       "      <th></th>\n",
       "      <th></th>\n",
       "    </tr>\n",
       "  </thead>\n",
       "  <tbody>\n",
       "    <tr>\n",
       "      <th>5s_Acholeplasma-laidlawii-1</th>\n",
       "      <td>IPKnot</td>\n",
       "      <td>0.620690</td>\n",
       "      <td>0.600000</td>\n",
       "      <td>0.642857</td>\n",
       "    </tr>\n",
       "    <tr>\n",
       "      <th>5s_Acidovorax-temperans-1</th>\n",
       "      <td>IPKnot</td>\n",
       "      <td>0.911765</td>\n",
       "      <td>0.939394</td>\n",
       "      <td>0.885714</td>\n",
       "    </tr>\n",
       "    <tr>\n",
       "      <th>tmRNA_Stre.gord._TRW-29390_1-349</th>\n",
       "      <td>IPKnot</td>\n",
       "      <td>0.500000</td>\n",
       "      <td>0.474747</td>\n",
       "      <td>0.528090</td>\n",
       "    </tr>\n",
       "    <tr>\n",
       "      <th>tRNA_tdbR00000055-Schizosaccharomyces_pombe-4896-Glu-3UC</th>\n",
       "      <td>IPKnot</td>\n",
       "      <td>0.650000</td>\n",
       "      <td>0.590909</td>\n",
       "      <td>0.722222</td>\n",
       "    </tr>\n",
       "    <tr>\n",
       "      <th>srp_List.mono._U15684</th>\n",
       "      <td>IPKnot</td>\n",
       "      <td>0.797468</td>\n",
       "      <td>0.732558</td>\n",
       "      <td>0.875000</td>\n",
       "    </tr>\n",
       "  </tbody>\n",
       "</table>\n",
       "</div>"
      ],
      "text/plain": [
       "                                                    method        f1  \\\n",
       "id                                                                     \n",
       "5s_Acholeplasma-laidlawii-1                         IPKnot  0.620690   \n",
       "5s_Acidovorax-temperans-1                           IPKnot  0.911765   \n",
       "tmRNA_Stre.gord._TRW-29390_1-349                    IPKnot  0.500000   \n",
       "tRNA_tdbR00000055-Schizosaccharomyces_pombe-489...  IPKnot  0.650000   \n",
       "srp_List.mono._U15684                               IPKnot  0.797468   \n",
       "\n",
       "                                                         rec       pre  \n",
       "id                                                                      \n",
       "5s_Acholeplasma-laidlawii-1                         0.600000  0.642857  \n",
       "5s_Acidovorax-temperans-1                           0.939394  0.885714  \n",
       "tmRNA_Stre.gord._TRW-29390_1-349                    0.474747  0.528090  \n",
       "tRNA_tdbR00000055-Schizosaccharomyces_pombe-489...  0.590909  0.722222  \n",
       "srp_List.mono._U15684                               0.732558  0.875000  "
      ]
     },
     "execution_count": 82,
     "metadata": {},
     "output_type": "execute_result"
    }
   ],
   "source": [
    "from sincfold_utils.metrics import bp_metrics\n",
    "\n",
    "classical_methods = [\"IPKnot\", \"LinearFoldV\", \"LinearPartitionC\", \"LinearPartitionV\", \"ProbKnot\", \"RNAfold\", \"RNAstructure\"] \n",
    "\n",
    "# load predictions and compute f1 scores\n",
    "summary = []\n",
    "for method in classical_methods:\n",
    "    print(method, end=\" \")\n",
    "    pred = pd.read_csv(DATA_PATH+f\"results/{method}.csv\", index_col=\"id\")\n",
    "    pred[\"ref\"] = dataset.loc[pred.index, \"base_pairs\"]\n",
    "    pred[[\"f1\", \"rec\", \"pre\"]] = pred.apply(lambda x: bp_metrics(json.loads(x[\"ref\"]), json.loads(x[\"base_pairs\"])), axis=1, result_type=\"expand\")\n",
    "    pred[\"method\"] = method\n",
    "    pred = pred[[\"method\", \"f1\", \"rec\", \"pre\"]]\n",
    "    summary.append(pred)\n",
    "summary = pd.concat(summary)    \n",
    "summary.head()"
   ]
  },
  {
   "cell_type": "markdown",
   "id": "eed5ae20",
   "metadata": {},
   "source": [
    "## Random k-fold\n",
    "- sincfold is running\n",
    "- ufold TODO"
   ]
  },
  {
   "cell_type": "code",
   "execution_count": 130,
   "id": "3be33bf4",
   "metadata": {},
   "outputs": [
    {
     "data": {
      "text/html": [
       "<div>\n",
       "<style scoped>\n",
       "    .dataframe tbody tr th:only-of-type {\n",
       "        vertical-align: middle;\n",
       "    }\n",
       "\n",
       "    .dataframe tbody tr th {\n",
       "        vertical-align: top;\n",
       "    }\n",
       "\n",
       "    .dataframe thead th {\n",
       "        text-align: right;\n",
       "    }\n",
       "</style>\n",
       "<table border=\"1\" class=\"dataframe\">\n",
       "  <thead>\n",
       "    <tr style=\"text-align: right;\">\n",
       "      <th></th>\n",
       "      <th>partition</th>\n",
       "    </tr>\n",
       "    <tr>\n",
       "      <th>fold_number</th>\n",
       "      <th></th>\n",
       "    </tr>\n",
       "  </thead>\n",
       "  <tbody>\n",
       "    <tr>\n",
       "      <th>0</th>\n",
       "      <td>3864</td>\n",
       "    </tr>\n",
       "    <tr>\n",
       "      <th>1</th>\n",
       "      <td>3864</td>\n",
       "    </tr>\n",
       "    <tr>\n",
       "      <th>2</th>\n",
       "      <td>3864</td>\n",
       "    </tr>\n",
       "    <tr>\n",
       "      <th>3</th>\n",
       "      <td>3864</td>\n",
       "    </tr>\n",
       "    <tr>\n",
       "      <th>4</th>\n",
       "      <td>3864</td>\n",
       "    </tr>\n",
       "  </tbody>\n",
       "</table>\n",
       "</div>"
      ],
      "text/plain": [
       "             partition\n",
       "fold_number           \n",
       "0                 3864\n",
       "1                 3864\n",
       "2                 3864\n",
       "3                 3864\n",
       "4                 3864"
      ]
     },
     "execution_count": 130,
     "metadata": {},
     "output_type": "execute_result"
    }
   ],
   "source": [
    "splits = pd.read_csv(f\"{DATA_PATH}data/1_random_kfolds/ArchiveII_splits_random.csv\", index_col=\"id\")\n",
    "splits.groupby(\"fold_number\").count()"
   ]
  },
  {
   "cell_type": "code",
   "execution_count": 139,
   "id": "07f313a7",
   "metadata": {},
   "outputs": [
    {
     "name": "stdout",
     "output_type": "stream",
     "text": [
      "MxFold2 0\n",
      "REDfold 0\n",
      "UFold 0 Not found, skipping\n",
      "sincFold 0 Not found, skipping\n",
      "MxFold2 1\n",
      "REDfold 1\n",
      "UFold 1 Not found, skipping\n",
      "sincFold 1 Not found, skipping\n",
      "MxFold2 2\n",
      "REDfold 2\n",
      "UFold 2 Not found, skipping\n",
      "sincFold 2 Not found, skipping\n",
      "MxFold2 3\n",
      "REDfold 3\n",
      "UFold 3 Not found, skipping\n",
      "sincFold 3 Not found, skipping\n",
      "MxFold2 4\n",
      "REDfold 4\n",
      "UFold 4 Not found, skipping\n",
      "sincFold 4 Not found, skipping\n"
     ]
    },
    {
     "data": {
      "text/html": [
       "<div>\n",
       "<style scoped>\n",
       "    .dataframe tbody tr th:only-of-type {\n",
       "        vertical-align: middle;\n",
       "    }\n",
       "\n",
       "    .dataframe tbody tr th {\n",
       "        vertical-align: top;\n",
       "    }\n",
       "\n",
       "    .dataframe thead th {\n",
       "        text-align: right;\n",
       "    }\n",
       "</style>\n",
       "<table border=\"1\" class=\"dataframe\">\n",
       "  <thead>\n",
       "    <tr style=\"text-align: right;\">\n",
       "      <th></th>\n",
       "      <th>method</th>\n",
       "      <th>fold</th>\n",
       "      <th>f1</th>\n",
       "      <th>rec</th>\n",
       "      <th>pre</th>\n",
       "    </tr>\n",
       "    <tr>\n",
       "      <th>id</th>\n",
       "      <th></th>\n",
       "      <th></th>\n",
       "      <th></th>\n",
       "      <th></th>\n",
       "      <th></th>\n",
       "    </tr>\n",
       "  </thead>\n",
       "  <tbody>\n",
       "    <tr>\n",
       "      <th>5s_Acidovorax-temperans-1</th>\n",
       "      <td>MxFold2</td>\n",
       "      <td>0</td>\n",
       "      <td>0.939394</td>\n",
       "      <td>0.939394</td>\n",
       "      <td>0.939394</td>\n",
       "    </tr>\n",
       "    <tr>\n",
       "      <th>5s_Methanothermobacter-thermautotrophicus-6</th>\n",
       "      <td>MxFold2</td>\n",
       "      <td>0</td>\n",
       "      <td>0.739726</td>\n",
       "      <td>0.750000</td>\n",
       "      <td>0.729730</td>\n",
       "    </tr>\n",
       "    <tr>\n",
       "      <th>5s_Saprospira-grandis-1</th>\n",
       "      <td>MxFold2</td>\n",
       "      <td>0</td>\n",
       "      <td>0.969697</td>\n",
       "      <td>0.969697</td>\n",
       "      <td>0.969697</td>\n",
       "    </tr>\n",
       "    <tr>\n",
       "      <th>grp1_a.I1.e.P.inouyei.C1.SSU.1506</th>\n",
       "      <td>MxFold2</td>\n",
       "      <td>0</td>\n",
       "      <td>0.649573</td>\n",
       "      <td>0.638655</td>\n",
       "      <td>0.660870</td>\n",
       "    </tr>\n",
       "    <tr>\n",
       "      <th>5s_Ralstonia-pickettii-1</th>\n",
       "      <td>MxFold2</td>\n",
       "      <td>0</td>\n",
       "      <td>1.000000</td>\n",
       "      <td>1.000000</td>\n",
       "      <td>1.000000</td>\n",
       "    </tr>\n",
       "  </tbody>\n",
       "</table>\n",
       "</div>"
      ],
      "text/plain": [
       "                                              method  fold        f1  \\\n",
       "id                                                                     \n",
       "5s_Acidovorax-temperans-1                    MxFold2     0  0.939394   \n",
       "5s_Methanothermobacter-thermautotrophicus-6  MxFold2     0  0.739726   \n",
       "5s_Saprospira-grandis-1                      MxFold2     0  0.969697   \n",
       "grp1_a.I1.e.P.inouyei.C1.SSU.1506            MxFold2     0  0.649573   \n",
       "5s_Ralstonia-pickettii-1                     MxFold2     0  1.000000   \n",
       "\n",
       "                                                  rec       pre  \n",
       "id                                                               \n",
       "5s_Acidovorax-temperans-1                    0.939394  0.939394  \n",
       "5s_Methanothermobacter-thermautotrophicus-6  0.750000  0.729730  \n",
       "5s_Saprospira-grandis-1                      0.969697  0.969697  \n",
       "grp1_a.I1.e.P.inouyei.C1.SSU.1506            0.638655  0.660870  \n",
       "5s_Ralstonia-pickettii-1                     1.000000  1.000000  "
      ]
     },
     "execution_count": 139,
     "metadata": {},
     "output_type": "execute_result"
    }
   ],
   "source": [
    "import os\n",
    "trained_methods = [\"MxFold2\", \"REDfold\", \"UFold\", \"sincFold\"]\n",
    "\n",
    "folds = sorted(splits[\"fold_number\"].unique())\n",
    "kfold_summary = []\n",
    "for fold in folds:\n",
    "    partition_set = splits[(splits[\"fold_number\"] == fold) & (splits[\"partition\"] == \"test\")]\n",
    "    for method in trained_methods:\n",
    "        f = DATA_PATH+f\"results/1_random_kfolds/{method}/{fold}/pred.csv\"\n",
    "        if not os.path.exists(f):\n",
    "            print(method, fold, f\"Not found, skipping\")\n",
    "            continue\n",
    "        print(method, fold)\n",
    "        \n",
    "        pred = pd.read_csv(f, index_col=\"id\")\n",
    "        pred[\"ref\"] = dataset.loc[partition_set.index, \"base_pairs\"]\n",
    "        pred[[\"f1\", \"rec\", \"pre\"]] = pred.apply(lambda x: bp_metrics(json.loads(x[\"ref\"]), json.loads(x[\"base_pairs\"])), axis=1, result_type=\"expand\")\n",
    "        pred[\"method\"] = method\n",
    "        pred[\"fold\"] = fold\n",
    "        pred = pred[[\"method\", \"fold\", \"f1\", \"rec\", \"pre\"]]\n",
    "        kfold_summary.append(pred)\n",
    "kfold_summary = pd.concat(kfold_summary)    \n",
    "kfold_summary.head()"
   ]
  },
  {
   "cell_type": "code",
   "execution_count": null,
   "id": "440d372a",
   "metadata": {},
   "outputs": [
    {
     "data": {
      "text/plain": [
       "array(['MxFold2', 'REDfold', 'IPKnot', 'LinearFoldV', 'LinearPartitionC',\n",
       "       'LinearPartitionV', 'ProbKnot', 'RNAfold', 'RNAstructure'],\n",
       "      dtype=object)"
      ]
     },
     "execution_count": 143,
     "metadata": {},
     "output_type": "execute_result"
    }
   ],
   "source": [
    "# add classical methods to kfold summary\n",
    "for method in classical_methods:\n",
    "    for fold in folds:\n",
    "        partition_set = splits[(splits[\"fold_number\"] == fold) & (splits[\"partition\"] == \"test\")]\n",
    "        res = summary.loc[partition_set.index]\n",
    "        res = res[res[\"method\"] == method]\n",
    "        res[\"fold\"] = fold\n",
    "        kfold_summary = pd.concat([kfold_summary, res])\n",
    "kfold_summary.method.unique()        "
   ]
  },
  {
   "cell_type": "code",
   "execution_count": 146,
   "id": "7c892c76",
   "metadata": {},
   "outputs": [
    {
     "name": "stderr",
     "output_type": "stream",
     "text": [
      "/tmp/ipykernel_158913/3653410898.py:8: UserWarning: No artists with labels found to put in legend.  Note that artists whose label start with an underscore are ignored when legend() is called with no argument.\n",
      "  plt.legend(title=\"Fold\")\n"
     ]
    },
    {
     "data": {
      "image/png": "[encoded data removed]",
      "text/plain": [
       "<Figure size 1000x600 with 1 Axes>"
      ]
     },
     "metadata": {},
     "output_type": "display_data"
    }
   ],
   "source": [
    "# boxplot methods (to improve)\n",
    "plt.figure(figsize=(10, 6))\n",
    "sns.boxplot(data=kfold_summary, x=\"method\", y=\"f1\")\n",
    "plt.xticks(rotation=45)\n",
    "plt.title(\"F1 scores by method and fold\")\n",
    "plt.xlabel(\"Method\")\n",
    "plt.ylabel(\"F1 score\")\n",
    "plt.legend(title=\"Fold\")\n",
    "plt.tight_layout()\n"
   ]
  }
 ],
 "metadata": {
  "kernelspec": {
   "display_name": "base",
   "language": "python",
   "name": "python3"
  },
  "language_info": {
   "codemirror_mode": {
    "name": "ipython",
    "version": 3
   },
   "file_extension": ".py",
   "mimetype": "text/x-python",
   "name": "python",
   "nbconvert_exporter": "python",
   "pygments_lexer": "ipython3",
   "version": "3.12.2"
  }
 },
 "nbformat": 4,
 "nbformat_minor": 5
}
